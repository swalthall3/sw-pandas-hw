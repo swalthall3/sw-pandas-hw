{
 "cells": [
  {
   "cell_type": "markdown",
   "metadata": {},
   "source": [
    "### Heroes Of Pymoli Data Analysis\n",
    "* The most popular and most profitable item is \"Oathbreaker, Last Hope of the Breaking Storm,\" purchased 12 times and earning a total of $50.76.\n",
    "\n",
    "* Users age 35-39 spend more on average than other age groups.\n",
    "\n",
    "* User Lisosia93 is the highest spender, purchasing a total of $18.96.\n",
    "-----"
   ]
  },
  {
   "cell_type": "markdown",
   "metadata": {},
   "source": [
    "### Note\n",
    "* Instructions have been included for each segment. You do not have to follow them exactly, but they are included to help you think through the steps."
   ]
  },
  {
   "cell_type": "code",
   "execution_count": 2,
   "metadata": {},
   "outputs": [
    {
     "data": {
      "text/html": [
       "<div>\n",
       "<style scoped>\n",
       "    .dataframe tbody tr th:only-of-type {\n",
       "        vertical-align: middle;\n",
       "    }\n",
       "\n",
       "    .dataframe tbody tr th {\n",
       "        vertical-align: top;\n",
       "    }\n",
       "\n",
       "    .dataframe thead th {\n",
       "        text-align: right;\n",
       "    }\n",
       "</style>\n",
       "<table border=\"1\" class=\"dataframe\">\n",
       "  <thead>\n",
       "    <tr style=\"text-align: right;\">\n",
       "      <th></th>\n",
       "      <th>Purchase ID</th>\n",
       "      <th>SN</th>\n",
       "      <th>Age</th>\n",
       "      <th>Gender</th>\n",
       "      <th>Item ID</th>\n",
       "      <th>Item Name</th>\n",
       "      <th>Price</th>\n",
       "    </tr>\n",
       "  </thead>\n",
       "  <tbody>\n",
       "    <tr>\n",
       "      <th>0</th>\n",
       "      <td>0</td>\n",
       "      <td>Lisim78</td>\n",
       "      <td>20</td>\n",
       "      <td>Male</td>\n",
       "      <td>108</td>\n",
       "      <td>Extraction, Quickblade Of Trembling Hands</td>\n",
       "      <td>3.53</td>\n",
       "    </tr>\n",
       "    <tr>\n",
       "      <th>1</th>\n",
       "      <td>1</td>\n",
       "      <td>Lisovynya38</td>\n",
       "      <td>40</td>\n",
       "      <td>Male</td>\n",
       "      <td>143</td>\n",
       "      <td>Frenzied Scimitar</td>\n",
       "      <td>1.56</td>\n",
       "    </tr>\n",
       "    <tr>\n",
       "      <th>2</th>\n",
       "      <td>2</td>\n",
       "      <td>Ithergue48</td>\n",
       "      <td>24</td>\n",
       "      <td>Male</td>\n",
       "      <td>92</td>\n",
       "      <td>Final Critic</td>\n",
       "      <td>4.88</td>\n",
       "    </tr>\n",
       "    <tr>\n",
       "      <th>3</th>\n",
       "      <td>3</td>\n",
       "      <td>Chamassasya86</td>\n",
       "      <td>24</td>\n",
       "      <td>Male</td>\n",
       "      <td>100</td>\n",
       "      <td>Blindscythe</td>\n",
       "      <td>3.27</td>\n",
       "    </tr>\n",
       "    <tr>\n",
       "      <th>4</th>\n",
       "      <td>4</td>\n",
       "      <td>Iskosia90</td>\n",
       "      <td>23</td>\n",
       "      <td>Male</td>\n",
       "      <td>131</td>\n",
       "      <td>Fury</td>\n",
       "      <td>1.44</td>\n",
       "    </tr>\n",
       "  </tbody>\n",
       "</table>\n",
       "</div>"
      ],
      "text/plain": [
       "   Purchase ID             SN  Age Gender  Item ID  \\\n",
       "0            0        Lisim78   20   Male      108   \n",
       "1            1    Lisovynya38   40   Male      143   \n",
       "2            2     Ithergue48   24   Male       92   \n",
       "3            3  Chamassasya86   24   Male      100   \n",
       "4            4      Iskosia90   23   Male      131   \n",
       "\n",
       "                                   Item Name  Price  \n",
       "0  Extraction, Quickblade Of Trembling Hands   3.53  \n",
       "1                          Frenzied Scimitar   1.56  \n",
       "2                               Final Critic   4.88  \n",
       "3                                Blindscythe   3.27  \n",
       "4                                       Fury   1.44  "
      ]
     },
     "execution_count": 2,
     "metadata": {},
     "output_type": "execute_result"
    }
   ],
   "source": [
    "# Dependencies and Setup\n",
    "import pandas as pd\n",
    "import numpy as np\n",
    "\n",
    "# File to Load (Remember to Change These)\n",
    "purchase_data_csv = \"Resources/purchase_data.csv\"\n",
    "\n",
    "# Read Purchasing File and store into Pandas data frame\n",
    "purchasedata_df = pd.read_csv(purchase_data_csv)\n",
    "purchasedata_df.head()"
   ]
  },
  {
   "cell_type": "markdown",
   "metadata": {},
   "source": [
    "## Player Count"
   ]
  },
  {
   "cell_type": "markdown",
   "metadata": {},
   "source": [
    "* Display the total number of players\n"
   ]
  },
  {
   "cell_type": "code",
   "execution_count": 3,
   "metadata": {},
   "outputs": [
    {
     "data": {
      "text/html": [
       "<div>\n",
       "<style scoped>\n",
       "    .dataframe tbody tr th:only-of-type {\n",
       "        vertical-align: middle;\n",
       "    }\n",
       "\n",
       "    .dataframe tbody tr th {\n",
       "        vertical-align: top;\n",
       "    }\n",
       "\n",
       "    .dataframe thead th {\n",
       "        text-align: right;\n",
       "    }\n",
       "</style>\n",
       "<table border=\"1\" class=\"dataframe\">\n",
       "  <thead>\n",
       "    <tr style=\"text-align: right;\">\n",
       "      <th></th>\n",
       "      <th>Total Players</th>\n",
       "    </tr>\n",
       "  </thead>\n",
       "  <tbody>\n",
       "    <tr>\n",
       "      <th>0</th>\n",
       "      <td>576</td>\n",
       "    </tr>\n",
       "  </tbody>\n",
       "</table>\n",
       "</div>"
      ],
      "text/plain": [
       "   Total Players\n",
       "0            576"
      ]
     },
     "execution_count": 3,
     "metadata": {},
     "output_type": "execute_result"
    }
   ],
   "source": [
    "totalplayers = purchasedata_df[\"SN\"].nunique()\n",
    "pd.DataFrame({\"Total Players\":[totalplayers]})"
   ]
  },
  {
   "cell_type": "markdown",
   "metadata": {},
   "source": [
    "## Purchasing Analysis (Total)"
   ]
  },
  {
   "cell_type": "markdown",
   "metadata": {},
   "source": [
    "* Run basic calculations to obtain number of unique items, average price, etc.\n",
    "\n",
    "\n",
    "* Create a summary data frame to hold the results\n",
    "\n",
    "\n",
    "* Optional: give the displayed data cleaner formatting\n",
    "\n",
    "\n",
    "* Display the summary data frame\n"
   ]
  },
  {
   "cell_type": "code",
   "execution_count": 4,
   "metadata": {
    "scrolled": true
   },
   "outputs": [
    {
     "data": {
      "text/html": [
       "<style  type=\"text/css\" >\n",
       "</style>  \n",
       "<table id=\"T_0360a39a_3847_11e9_9fe8_00f48da344f0\" > \n",
       "<thead>    <tr> \n",
       "        <th class=\"blank level0\" ></th> \n",
       "        <th class=\"col_heading level0 col0\" >Number of Unique Items</th> \n",
       "        <th class=\"col_heading level0 col1\" >Average Price</th> \n",
       "        <th class=\"col_heading level0 col2\" >Number of Purchases</th> \n",
       "        <th class=\"col_heading level0 col3\" >Total Revenue</th> \n",
       "    </tr></thead> \n",
       "<tbody>    <tr> \n",
       "        <th id=\"T_0360a39a_3847_11e9_9fe8_00f48da344f0level0_row0\" class=\"row_heading level0 row0\" >0</th> \n",
       "        <td id=\"T_0360a39a_3847_11e9_9fe8_00f48da344f0row0_col0\" class=\"data row0 col0\" >183</td> \n",
       "        <td id=\"T_0360a39a_3847_11e9_9fe8_00f48da344f0row0_col1\" class=\"data row0 col1\" >$3.05</td> \n",
       "        <td id=\"T_0360a39a_3847_11e9_9fe8_00f48da344f0row0_col2\" class=\"data row0 col2\" >780</td> \n",
       "        <td id=\"T_0360a39a_3847_11e9_9fe8_00f48da344f0row0_col3\" class=\"data row0 col3\" >$2,379.77</td> \n",
       "    </tr></tbody> \n",
       "</table> "
      ],
      "text/plain": [
       "<pandas.io.formats.style.Styler at 0x1a832c1ac88>"
      ]
     },
     "execution_count": 4,
     "metadata": {},
     "output_type": "execute_result"
    }
   ],
   "source": [
    "totalitems = purchasedata_df[\"Item ID\"].nunique()\n",
    "avgprice = purchasedata_df[\"Price\"].mean()\n",
    "purchasecount = purchasedata_df[\"Purchase ID\"].count()\n",
    "totalrevenue = purchasedata_df[\"Price\"].sum()\n",
    "summary_df = pd.DataFrame({\"Number of Unique Items\":[totalitems], \n",
    "                           \"Average Price\":[avgprice],\n",
    "                           \"Number of Purchases\":[purchasecount],\n",
    "                           \"Total Revenue\":[totalrevenue]})\n",
    "summary_df.style.format({\"Average Price\":\"${:,.2f}\", \"Total Revenue\":\"${:,.2f}\"})"
   ]
  },
  {
   "cell_type": "markdown",
   "metadata": {},
   "source": [
    "## Gender Demographics"
   ]
  },
  {
   "cell_type": "markdown",
   "metadata": {},
   "source": [
    "* Percentage and Count of Male Players\n",
    "\n",
    "\n",
    "* Percentage and Count of Female Players\n",
    "\n",
    "\n",
    "* Percentage and Count of Other / Non-Disclosed\n",
    "\n",
    "\n"
   ]
  },
  {
   "cell_type": "code",
   "execution_count": 5,
   "metadata": {},
   "outputs": [
    {
     "data": {
      "text/html": [
       "<style  type=\"text/css\" >\n",
       "</style>  \n",
       "<table id=\"T_05032962_3847_11e9_b95e_00f48da344f0\" > \n",
       "<thead>    <tr> \n",
       "        <th class=\"blank level0\" ></th> \n",
       "        <th class=\"col_heading level0 col0\" >Total Count</th> \n",
       "        <th class=\"col_heading level0 col1\" >Percentage of Players</th> \n",
       "    </tr>    <tr> \n",
       "        <th class=\"index_name level0\" >Gender</th> \n",
       "        <th class=\"blank\" ></th> \n",
       "        <th class=\"blank\" ></th> \n",
       "    </tr></thead> \n",
       "<tbody>    <tr> \n",
       "        <th id=\"T_05032962_3847_11e9_b95e_00f48da344f0level0_row0\" class=\"row_heading level0 row0\" >Female</th> \n",
       "        <td id=\"T_05032962_3847_11e9_b95e_00f48da344f0row0_col0\" class=\"data row0 col0\" >81</td> \n",
       "        <td id=\"T_05032962_3847_11e9_b95e_00f48da344f0row0_col1\" class=\"data row0 col1\" >14.06%</td> \n",
       "    </tr>    <tr> \n",
       "        <th id=\"T_05032962_3847_11e9_b95e_00f48da344f0level0_row1\" class=\"row_heading level0 row1\" >Male</th> \n",
       "        <td id=\"T_05032962_3847_11e9_b95e_00f48da344f0row1_col0\" class=\"data row1 col0\" >484</td> \n",
       "        <td id=\"T_05032962_3847_11e9_b95e_00f48da344f0row1_col1\" class=\"data row1 col1\" >84.03%</td> \n",
       "    </tr>    <tr> \n",
       "        <th id=\"T_05032962_3847_11e9_b95e_00f48da344f0level0_row2\" class=\"row_heading level0 row2\" >Other / Non-Disclosed</th> \n",
       "        <td id=\"T_05032962_3847_11e9_b95e_00f48da344f0row2_col0\" class=\"data row2 col0\" >11</td> \n",
       "        <td id=\"T_05032962_3847_11e9_b95e_00f48da344f0row2_col1\" class=\"data row2 col1\" >1.91%</td> \n",
       "    </tr></tbody> \n",
       "</table> "
      ],
      "text/plain": [
       "<pandas.io.formats.style.Styler at 0x1a833ae6f98>"
      ]
     },
     "execution_count": 5,
     "metadata": {},
     "output_type": "execute_result"
    }
   ],
   "source": [
    "eachuser = purchasedata_df.drop_duplicates(subset=[\"SN\"],keep='first',inplace=False)\n",
    "gendergroup = eachuser.groupby([\"Gender\"])\n",
    "genderdemo_df = pd.DataFrame(gendergroup.count())\n",
    "genderdemo_df[\"Total Count\"] = genderdemo_df[\"SN\"]\n",
    "genderdemo_df[\"Percentage of Players\"] = ((genderdemo_df[\"Total Count\"] / genderdemo_df[\"Total Count\"].sum())*100)\n",
    "newgender_df = genderdemo_df[[\"Total Count\", \"Percentage of Players\"]]\n",
    "newgender_df.style.format({\"Percentage of Players\":\"{:.2f}%\"})"
   ]
  },
  {
   "cell_type": "markdown",
   "metadata": {},
   "source": [
    "\n",
    "## Purchasing Analysis (Gender)"
   ]
  },
  {
   "cell_type": "markdown",
   "metadata": {},
   "source": [
    "* Run basic calculations to obtain purchase count, avg. purchase price, avg. purchase total per person etc. by gender\n",
    "\n",
    "\n",
    "\n",
    "\n",
    "* Create a summary data frame to hold the results\n",
    "\n",
    "\n",
    "* Optional: give the displayed data cleaner formatting\n",
    "\n",
    "\n",
    "* Display the summary data frame"
   ]
  },
  {
   "cell_type": "code",
   "execution_count": 6,
   "metadata": {},
   "outputs": [
    {
     "data": {
      "text/html": [
       "<style  type=\"text/css\" >\n",
       "</style>  \n",
       "<table id=\"T_0816a5c8_3847_11e9_9ef2_00f48da344f0\" > \n",
       "<thead>    <tr> \n",
       "        <th class=\"blank level0\" ></th> \n",
       "        <th class=\"col_heading level0 col0\" >Purchase Count</th> \n",
       "        <th class=\"col_heading level0 col1\" >Average Purchase Price</th> \n",
       "        <th class=\"col_heading level0 col2\" >Total Purchase Value</th> \n",
       "        <th class=\"col_heading level0 col3\" >Avg Total Purchase per Person</th> \n",
       "    </tr>    <tr> \n",
       "        <th class=\"index_name level0\" >Gender</th> \n",
       "        <th class=\"blank\" ></th> \n",
       "        <th class=\"blank\" ></th> \n",
       "        <th class=\"blank\" ></th> \n",
       "        <th class=\"blank\" ></th> \n",
       "    </tr></thead> \n",
       "<tbody>    <tr> \n",
       "        <th id=\"T_0816a5c8_3847_11e9_9ef2_00f48da344f0level0_row0\" class=\"row_heading level0 row0\" >Female</th> \n",
       "        <td id=\"T_0816a5c8_3847_11e9_9ef2_00f48da344f0row0_col0\" class=\"data row0 col0\" >113</td> \n",
       "        <td id=\"T_0816a5c8_3847_11e9_9ef2_00f48da344f0row0_col1\" class=\"data row0 col1\" >$3.20</td> \n",
       "        <td id=\"T_0816a5c8_3847_11e9_9ef2_00f48da344f0row0_col2\" class=\"data row0 col2\" >$361.94</td> \n",
       "        <td id=\"T_0816a5c8_3847_11e9_9ef2_00f48da344f0row0_col3\" class=\"data row0 col3\" >4.47%</td> \n",
       "    </tr>    <tr> \n",
       "        <th id=\"T_0816a5c8_3847_11e9_9ef2_00f48da344f0level0_row1\" class=\"row_heading level0 row1\" >Male</th> \n",
       "        <td id=\"T_0816a5c8_3847_11e9_9ef2_00f48da344f0row1_col0\" class=\"data row1 col0\" >652</td> \n",
       "        <td id=\"T_0816a5c8_3847_11e9_9ef2_00f48da344f0row1_col1\" class=\"data row1 col1\" >$3.02</td> \n",
       "        <td id=\"T_0816a5c8_3847_11e9_9ef2_00f48da344f0row1_col2\" class=\"data row1 col2\" >$1967.64</td> \n",
       "        <td id=\"T_0816a5c8_3847_11e9_9ef2_00f48da344f0row1_col3\" class=\"data row1 col3\" >4.07%</td> \n",
       "    </tr>    <tr> \n",
       "        <th id=\"T_0816a5c8_3847_11e9_9ef2_00f48da344f0level0_row2\" class=\"row_heading level0 row2\" >Other / Non-Disclosed</th> \n",
       "        <td id=\"T_0816a5c8_3847_11e9_9ef2_00f48da344f0row2_col0\" class=\"data row2 col0\" >15</td> \n",
       "        <td id=\"T_0816a5c8_3847_11e9_9ef2_00f48da344f0row2_col1\" class=\"data row2 col1\" >$3.35</td> \n",
       "        <td id=\"T_0816a5c8_3847_11e9_9ef2_00f48da344f0row2_col2\" class=\"data row2 col2\" >$50.19</td> \n",
       "        <td id=\"T_0816a5c8_3847_11e9_9ef2_00f48da344f0row2_col3\" class=\"data row2 col3\" >4.56%</td> \n",
       "    </tr></tbody> \n",
       "</table> "
      ],
      "text/plain": [
       "<pandas.io.formats.style.Styler at 0x1a833b77198>"
      ]
     },
     "execution_count": 6,
     "metadata": {},
     "output_type": "execute_result"
    }
   ],
   "source": [
    "newgroup = purchasedata_df.groupby([\"Gender\"])\n",
    "totalpurchase = newgroup[\"Price\"].sum()\n",
    "avgprice = totalpurchase / newgroup[\"Gender\"].count()\n",
    "avgpurchasetotal = totalpurchase / newgroup[\"SN\"].nunique()\n",
    "gpurchasecount = newgroup[\"Purchase ID\"].count()\n",
    "newgroupdf = pd.DataFrame({\"Purchase Count\": gpurchasecount,\n",
    "                          \"Average Purchase Price\": avgprice,\n",
    "                          \"Total Purchase Value\": totalpurchase,\n",
    "                          \"Avg Total Purchase per Person\": avgpurchasetotal})\n",
    "newgroupdf.style.format({\"Average Purchase Price\":\"${:.2f}\",\"Total Purchase Value\":\"${:.2f}\",\"Avg Total Purchase per Person\":\"{:.2f}%\"})\n",
    "\n"
   ]
  },
  {
   "cell_type": "markdown",
   "metadata": {},
   "source": [
    "## Age Demographics"
   ]
  },
  {
   "cell_type": "markdown",
   "metadata": {},
   "source": [
    "* Establish bins for ages\n",
    "\n",
    "\n",
    "* Categorize the existing players using the age bins. Hint: use pd.cut()\n",
    "\n",
    "\n",
    "* Calculate the numbers and percentages by age group\n",
    "\n",
    "\n",
    "* Create a summary data frame to hold the results\n",
    "\n",
    "\n",
    "* Optional: round the percentage column to two decimal points\n",
    "\n",
    "\n",
    "* Display Age Demographics Table\n"
   ]
  },
  {
   "cell_type": "code",
   "execution_count": 7,
   "metadata": {},
   "outputs": [
    {
     "data": {
      "text/html": [
       "<style  type=\"text/css\" >\n",
       "</style>  \n",
       "<table id=\"T_216b4a90_3847_11e9_a62b_00f48da344f0\" > \n",
       "<thead>    <tr> \n",
       "        <th class=\"blank level0\" ></th> \n",
       "        <th class=\"col_heading level0 col0\" >Total Count</th> \n",
       "        <th class=\"col_heading level0 col1\" >Percent of Players</th> \n",
       "    </tr>    <tr> \n",
       "        <th class=\"index_name level0\" >Age Range</th> \n",
       "        <th class=\"blank\" ></th> \n",
       "        <th class=\"blank\" ></th> \n",
       "    </tr></thead> \n",
       "<tbody>    <tr> \n",
       "        <th id=\"T_216b4a90_3847_11e9_a62b_00f48da344f0level0_row0\" class=\"row_heading level0 row0\" ><10</th> \n",
       "        <td id=\"T_216b4a90_3847_11e9_a62b_00f48da344f0row0_col0\" class=\"data row0 col0\" >17</td> \n",
       "        <td id=\"T_216b4a90_3847_11e9_a62b_00f48da344f0row0_col1\" class=\"data row0 col1\" >2.95%</td> \n",
       "    </tr>    <tr> \n",
       "        <th id=\"T_216b4a90_3847_11e9_a62b_00f48da344f0level0_row1\" class=\"row_heading level0 row1\" >10-14</th> \n",
       "        <td id=\"T_216b4a90_3847_11e9_a62b_00f48da344f0row1_col0\" class=\"data row1 col0\" >22</td> \n",
       "        <td id=\"T_216b4a90_3847_11e9_a62b_00f48da344f0row1_col1\" class=\"data row1 col1\" >3.82%</td> \n",
       "    </tr>    <tr> \n",
       "        <th id=\"T_216b4a90_3847_11e9_a62b_00f48da344f0level0_row2\" class=\"row_heading level0 row2\" >15-19</th> \n",
       "        <td id=\"T_216b4a90_3847_11e9_a62b_00f48da344f0row2_col0\" class=\"data row2 col0\" >107</td> \n",
       "        <td id=\"T_216b4a90_3847_11e9_a62b_00f48da344f0row2_col1\" class=\"data row2 col1\" >18.58%</td> \n",
       "    </tr>    <tr> \n",
       "        <th id=\"T_216b4a90_3847_11e9_a62b_00f48da344f0level0_row3\" class=\"row_heading level0 row3\" >20-24</th> \n",
       "        <td id=\"T_216b4a90_3847_11e9_a62b_00f48da344f0row3_col0\" class=\"data row3 col0\" >258</td> \n",
       "        <td id=\"T_216b4a90_3847_11e9_a62b_00f48da344f0row3_col1\" class=\"data row3 col1\" >44.79%</td> \n",
       "    </tr>    <tr> \n",
       "        <th id=\"T_216b4a90_3847_11e9_a62b_00f48da344f0level0_row4\" class=\"row_heading level0 row4\" >25-29</th> \n",
       "        <td id=\"T_216b4a90_3847_11e9_a62b_00f48da344f0row4_col0\" class=\"data row4 col0\" >77</td> \n",
       "        <td id=\"T_216b4a90_3847_11e9_a62b_00f48da344f0row4_col1\" class=\"data row4 col1\" >13.37%</td> \n",
       "    </tr>    <tr> \n",
       "        <th id=\"T_216b4a90_3847_11e9_a62b_00f48da344f0level0_row5\" class=\"row_heading level0 row5\" >30-34</th> \n",
       "        <td id=\"T_216b4a90_3847_11e9_a62b_00f48da344f0row5_col0\" class=\"data row5 col0\" >52</td> \n",
       "        <td id=\"T_216b4a90_3847_11e9_a62b_00f48da344f0row5_col1\" class=\"data row5 col1\" >9.03%</td> \n",
       "    </tr>    <tr> \n",
       "        <th id=\"T_216b4a90_3847_11e9_a62b_00f48da344f0level0_row6\" class=\"row_heading level0 row6\" >35-39</th> \n",
       "        <td id=\"T_216b4a90_3847_11e9_a62b_00f48da344f0row6_col0\" class=\"data row6 col0\" >31</td> \n",
       "        <td id=\"T_216b4a90_3847_11e9_a62b_00f48da344f0row6_col1\" class=\"data row6 col1\" >5.38%</td> \n",
       "    </tr>    <tr> \n",
       "        <th id=\"T_216b4a90_3847_11e9_a62b_00f48da344f0level0_row7\" class=\"row_heading level0 row7\" >40+</th> \n",
       "        <td id=\"T_216b4a90_3847_11e9_a62b_00f48da344f0row7_col0\" class=\"data row7 col0\" >12</td> \n",
       "        <td id=\"T_216b4a90_3847_11e9_a62b_00f48da344f0row7_col1\" class=\"data row7 col1\" >2.08%</td> \n",
       "    </tr></tbody> \n",
       "</table> "
      ],
      "text/plain": [
       "<pandas.io.formats.style.Styler at 0x1a832c75d30>"
      ]
     },
     "execution_count": 7,
     "metadata": {},
     "output_type": "execute_result"
    }
   ],
   "source": [
    "agebins = [0, 9 , 14, 19, 24, 29, 34, 39, 45]\n",
    "agelabels = [\"<10\", \"10-14\", \"15-19\", \"20-24\", \"25-29\", \"30-34\", \"35-39\", \"40+\"]\n",
    "\n",
    "purchasedata_df[\"Age Range\"] = pd.cut(purchasedata_df[\"Age\"], agebins, labels=agelabels)\n",
    "agerange = purchasedata_df.groupby(\"Age Range\")[\"SN\"].nunique()\n",
    "\n",
    "age = pd.DataFrame(agerange)\n",
    "playerpercent = ((age[\"SN\"]/totalplayers)*100)\n",
    "age[\"Percent of Players\"]= playerpercent\n",
    "\n",
    "age = age.rename(columns={\"SN\" : \"Total Count\"})\n",
    "age.style.format({\"Percent of Players\":\"{:.2f}%\"})"
   ]
  },
  {
   "cell_type": "markdown",
   "metadata": {},
   "source": [
    "## Purchasing Analysis (Age)"
   ]
  },
  {
   "cell_type": "markdown",
   "metadata": {},
   "source": [
    "* Bin the purchase_data data frame by age\n",
    "\n",
    "\n",
    "* Run basic calculations to obtain purchase count, avg. purchase price, avg. purchase total per person etc. in the table below\n",
    "\n",
    "\n",
    "* Create a summary data frame to hold the results\n",
    "\n",
    "\n",
    "* Optional: give the displayed data cleaner formatting\n",
    "\n",
    "\n",
    "* Display the summary data frame"
   ]
  },
  {
   "cell_type": "code",
   "execution_count": 50,
   "metadata": {},
   "outputs": [
    {
     "data": {
      "text/html": [
       "<style  type=\"text/css\" >\n",
       "</style>  \n",
       "<table id=\"T_11b16662_3884_11e9_8fe6_00f48da344f0\" > \n",
       "<thead>    <tr> \n",
       "        <th class=\"blank level0\" ></th> \n",
       "        <th class=\"col_heading level0 col0\" >Purchase Count</th> \n",
       "        <th class=\"col_heading level0 col1\" >Average Purchase Price</th> \n",
       "        <th class=\"col_heading level0 col2\" >Total Purchase Value</th> \n",
       "        <th class=\"col_heading level0 col3\" >Avg Total Purchase per Person</th> \n",
       "    </tr>    <tr> \n",
       "        <th class=\"index_name level0\" >Age Range</th> \n",
       "        <th class=\"blank\" ></th> \n",
       "        <th class=\"blank\" ></th> \n",
       "        <th class=\"blank\" ></th> \n",
       "        <th class=\"blank\" ></th> \n",
       "    </tr></thead> \n",
       "<tbody>    <tr> \n",
       "        <th id=\"T_11b16662_3884_11e9_8fe6_00f48da344f0level0_row0\" class=\"row_heading level0 row0\" ><10</th> \n",
       "        <td id=\"T_11b16662_3884_11e9_8fe6_00f48da344f0row0_col0\" class=\"data row0 col0\" >23</td> \n",
       "        <td id=\"T_11b16662_3884_11e9_8fe6_00f48da344f0row0_col1\" class=\"data row0 col1\" >$3.35</td> \n",
       "        <td id=\"T_11b16662_3884_11e9_8fe6_00f48da344f0row0_col2\" class=\"data row0 col2\" >$77.13</td> \n",
       "        <td id=\"T_11b16662_3884_11e9_8fe6_00f48da344f0row0_col3\" class=\"data row0 col3\" >$4.54</td> \n",
       "    </tr>    <tr> \n",
       "        <th id=\"T_11b16662_3884_11e9_8fe6_00f48da344f0level0_row1\" class=\"row_heading level0 row1\" >10-14</th> \n",
       "        <td id=\"T_11b16662_3884_11e9_8fe6_00f48da344f0row1_col0\" class=\"data row1 col0\" >28</td> \n",
       "        <td id=\"T_11b16662_3884_11e9_8fe6_00f48da344f0row1_col1\" class=\"data row1 col1\" >$2.96</td> \n",
       "        <td id=\"T_11b16662_3884_11e9_8fe6_00f48da344f0row1_col2\" class=\"data row1 col2\" >$82.78</td> \n",
       "        <td id=\"T_11b16662_3884_11e9_8fe6_00f48da344f0row1_col3\" class=\"data row1 col3\" >$3.76</td> \n",
       "    </tr>    <tr> \n",
       "        <th id=\"T_11b16662_3884_11e9_8fe6_00f48da344f0level0_row2\" class=\"row_heading level0 row2\" >15-19</th> \n",
       "        <td id=\"T_11b16662_3884_11e9_8fe6_00f48da344f0row2_col0\" class=\"data row2 col0\" >136</td> \n",
       "        <td id=\"T_11b16662_3884_11e9_8fe6_00f48da344f0row2_col1\" class=\"data row2 col1\" >$3.04</td> \n",
       "        <td id=\"T_11b16662_3884_11e9_8fe6_00f48da344f0row2_col2\" class=\"data row2 col2\" >$412.89</td> \n",
       "        <td id=\"T_11b16662_3884_11e9_8fe6_00f48da344f0row2_col3\" class=\"data row2 col3\" >$3.86</td> \n",
       "    </tr>    <tr> \n",
       "        <th id=\"T_11b16662_3884_11e9_8fe6_00f48da344f0level0_row3\" class=\"row_heading level0 row3\" >20-24</th> \n",
       "        <td id=\"T_11b16662_3884_11e9_8fe6_00f48da344f0row3_col0\" class=\"data row3 col0\" >365</td> \n",
       "        <td id=\"T_11b16662_3884_11e9_8fe6_00f48da344f0row3_col1\" class=\"data row3 col1\" >$3.05</td> \n",
       "        <td id=\"T_11b16662_3884_11e9_8fe6_00f48da344f0row3_col2\" class=\"data row3 col2\" >$1114.06</td> \n",
       "        <td id=\"T_11b16662_3884_11e9_8fe6_00f48da344f0row3_col3\" class=\"data row3 col3\" >$4.32</td> \n",
       "    </tr>    <tr> \n",
       "        <th id=\"T_11b16662_3884_11e9_8fe6_00f48da344f0level0_row4\" class=\"row_heading level0 row4\" >25-29</th> \n",
       "        <td id=\"T_11b16662_3884_11e9_8fe6_00f48da344f0row4_col0\" class=\"data row4 col0\" >101</td> \n",
       "        <td id=\"T_11b16662_3884_11e9_8fe6_00f48da344f0row4_col1\" class=\"data row4 col1\" >$2.90</td> \n",
       "        <td id=\"T_11b16662_3884_11e9_8fe6_00f48da344f0row4_col2\" class=\"data row4 col2\" >$293.00</td> \n",
       "        <td id=\"T_11b16662_3884_11e9_8fe6_00f48da344f0row4_col3\" class=\"data row4 col3\" >$3.81</td> \n",
       "    </tr>    <tr> \n",
       "        <th id=\"T_11b16662_3884_11e9_8fe6_00f48da344f0level0_row5\" class=\"row_heading level0 row5\" >30-34</th> \n",
       "        <td id=\"T_11b16662_3884_11e9_8fe6_00f48da344f0row5_col0\" class=\"data row5 col0\" >73</td> \n",
       "        <td id=\"T_11b16662_3884_11e9_8fe6_00f48da344f0row5_col1\" class=\"data row5 col1\" >$2.93</td> \n",
       "        <td id=\"T_11b16662_3884_11e9_8fe6_00f48da344f0row5_col2\" class=\"data row5 col2\" >$214.00</td> \n",
       "        <td id=\"T_11b16662_3884_11e9_8fe6_00f48da344f0row5_col3\" class=\"data row5 col3\" >$4.12</td> \n",
       "    </tr>    <tr> \n",
       "        <th id=\"T_11b16662_3884_11e9_8fe6_00f48da344f0level0_row6\" class=\"row_heading level0 row6\" >35-39</th> \n",
       "        <td id=\"T_11b16662_3884_11e9_8fe6_00f48da344f0row6_col0\" class=\"data row6 col0\" >41</td> \n",
       "        <td id=\"T_11b16662_3884_11e9_8fe6_00f48da344f0row6_col1\" class=\"data row6 col1\" >$3.60</td> \n",
       "        <td id=\"T_11b16662_3884_11e9_8fe6_00f48da344f0row6_col2\" class=\"data row6 col2\" >$147.67</td> \n",
       "        <td id=\"T_11b16662_3884_11e9_8fe6_00f48da344f0row6_col3\" class=\"data row6 col3\" >$4.76</td> \n",
       "    </tr>    <tr> \n",
       "        <th id=\"T_11b16662_3884_11e9_8fe6_00f48da344f0level0_row7\" class=\"row_heading level0 row7\" >40+</th> \n",
       "        <td id=\"T_11b16662_3884_11e9_8fe6_00f48da344f0row7_col0\" class=\"data row7 col0\" >13</td> \n",
       "        <td id=\"T_11b16662_3884_11e9_8fe6_00f48da344f0row7_col1\" class=\"data row7 col1\" >$2.94</td> \n",
       "        <td id=\"T_11b16662_3884_11e9_8fe6_00f48da344f0row7_col2\" class=\"data row7 col2\" >$38.24</td> \n",
       "        <td id=\"T_11b16662_3884_11e9_8fe6_00f48da344f0row7_col3\" class=\"data row7 col3\" >$3.19</td> \n",
       "    </tr></tbody> \n",
       "</table> "
      ],
      "text/plain": [
       "<pandas.io.formats.style.Styler at 0x1a8340fb128>"
      ]
     },
     "execution_count": 50,
     "metadata": {},
     "output_type": "execute_result"
    }
   ],
   "source": [
    "agegroup = purchasedata_df.groupby([\"Age Range\"])\n",
    "agavgeprice = agegroup[\"Price\"].mean()\n",
    "agtotalp = agegroup[\"Price\"].sum()\n",
    "agpurchasecount = agegroup[\"Price\"].count()\n",
    "perperson = agtotalp/agegroup[\"SN\"].nunique()\n",
    "\n",
    "summary = pd.DataFrame({\"Purchase Count\":agpurchasecount,\n",
    "                     \"Average Purchase Price\":agavgeprice,\n",
    "                     \"Total Purchase Value\":agtotalp,\n",
    "                     \"Avg Total Purchase per Person\":perperson})\n",
    "summary.style.format({\"Average Purchase Price\":\"${:.2f}\",\"Total Purchase Value\":\"${:.2f}\",\"Avg Total Purchase per Person\":\"${:.2f}\"})"
   ]
  },
  {
   "cell_type": "markdown",
   "metadata": {},
   "source": [
    "## Top Spenders"
   ]
  },
  {
   "cell_type": "markdown",
   "metadata": {},
   "source": [
    "* Run basic calculations to obtain the results in the table below\n",
    "\n",
    "\n",
    "* Create a summary data frame to hold the results\n",
    "\n",
    "\n",
    "* Sort the total purchase value column in descending order\n",
    "\n",
    "\n",
    "* Optional: give the displayed data cleaner formatting\n",
    "\n",
    "\n",
    "* Display a preview of the summary data frame\n",
    "\n"
   ]
  },
  {
   "cell_type": "code",
   "execution_count": 41,
   "metadata": {},
   "outputs": [
    {
     "data": {
      "text/html": [
       "<style  type=\"text/css\" >\n",
       "</style>  \n",
       "<table id=\"T_1f1ca6dc_386f_11e9_9d1f_00f48da344f0\" > \n",
       "<thead>    <tr> \n",
       "        <th class=\"blank level0\" ></th> \n",
       "        <th class=\"col_heading level0 col0\" >Purchase Count</th> \n",
       "        <th class=\"col_heading level0 col1\" >Average Purchase Price</th> \n",
       "        <th class=\"col_heading level0 col2\" >Total Purchase Value</th> \n",
       "    </tr>    <tr> \n",
       "        <th class=\"index_name level0\" >SN</th> \n",
       "        <th class=\"blank\" ></th> \n",
       "        <th class=\"blank\" ></th> \n",
       "        <th class=\"blank\" ></th> \n",
       "    </tr></thead> \n",
       "<tbody>    <tr> \n",
       "        <th id=\"T_1f1ca6dc_386f_11e9_9d1f_00f48da344f0level0_row0\" class=\"row_heading level0 row0\" >Lisosia93</th> \n",
       "        <td id=\"T_1f1ca6dc_386f_11e9_9d1f_00f48da344f0row0_col0\" class=\"data row0 col0\" >5</td> \n",
       "        <td id=\"T_1f1ca6dc_386f_11e9_9d1f_00f48da344f0row0_col1\" class=\"data row0 col1\" >$3.79</td> \n",
       "        <td id=\"T_1f1ca6dc_386f_11e9_9d1f_00f48da344f0row0_col2\" class=\"data row0 col2\" >$18.96</td> \n",
       "    </tr>    <tr> \n",
       "        <th id=\"T_1f1ca6dc_386f_11e9_9d1f_00f48da344f0level0_row1\" class=\"row_heading level0 row1\" >Idastidru52</th> \n",
       "        <td id=\"T_1f1ca6dc_386f_11e9_9d1f_00f48da344f0row1_col0\" class=\"data row1 col0\" >4</td> \n",
       "        <td id=\"T_1f1ca6dc_386f_11e9_9d1f_00f48da344f0row1_col1\" class=\"data row1 col1\" >$3.86</td> \n",
       "        <td id=\"T_1f1ca6dc_386f_11e9_9d1f_00f48da344f0row1_col2\" class=\"data row1 col2\" >$15.45</td> \n",
       "    </tr>    <tr> \n",
       "        <th id=\"T_1f1ca6dc_386f_11e9_9d1f_00f48da344f0level0_row2\" class=\"row_heading level0 row2\" >Chamjask73</th> \n",
       "        <td id=\"T_1f1ca6dc_386f_11e9_9d1f_00f48da344f0row2_col0\" class=\"data row2 col0\" >3</td> \n",
       "        <td id=\"T_1f1ca6dc_386f_11e9_9d1f_00f48da344f0row2_col1\" class=\"data row2 col1\" >$4.61</td> \n",
       "        <td id=\"T_1f1ca6dc_386f_11e9_9d1f_00f48da344f0row2_col2\" class=\"data row2 col2\" >$13.83</td> \n",
       "    </tr>    <tr> \n",
       "        <th id=\"T_1f1ca6dc_386f_11e9_9d1f_00f48da344f0level0_row3\" class=\"row_heading level0 row3\" >Iral74</th> \n",
       "        <td id=\"T_1f1ca6dc_386f_11e9_9d1f_00f48da344f0row3_col0\" class=\"data row3 col0\" >4</td> \n",
       "        <td id=\"T_1f1ca6dc_386f_11e9_9d1f_00f48da344f0row3_col1\" class=\"data row3 col1\" >$3.40</td> \n",
       "        <td id=\"T_1f1ca6dc_386f_11e9_9d1f_00f48da344f0row3_col2\" class=\"data row3 col2\" >$13.62</td> \n",
       "    </tr>    <tr> \n",
       "        <th id=\"T_1f1ca6dc_386f_11e9_9d1f_00f48da344f0level0_row4\" class=\"row_heading level0 row4\" >Iskadarya95</th> \n",
       "        <td id=\"T_1f1ca6dc_386f_11e9_9d1f_00f48da344f0row4_col0\" class=\"data row4 col0\" >3</td> \n",
       "        <td id=\"T_1f1ca6dc_386f_11e9_9d1f_00f48da344f0row4_col1\" class=\"data row4 col1\" >$4.37</td> \n",
       "        <td id=\"T_1f1ca6dc_386f_11e9_9d1f_00f48da344f0row4_col2\" class=\"data row4 col2\" >$13.10</td> \n",
       "    </tr></tbody> \n",
       "</table> "
      ],
      "text/plain": [
       "<pandas.io.formats.style.Styler at 0x1a833e52a58>"
      ]
     },
     "execution_count": 41,
     "metadata": {},
     "output_type": "execute_result"
    }
   ],
   "source": [
    "topspend = purchasedata_df.groupby([\"SN\"])\n",
    "tspcount = topspend[\"Purchase ID\"].count()\n",
    "tsavgprice = topspend[\"Price\"].mean()\n",
    "tstotalvalue = topspend[\"Price\"].sum()\n",
    "topspenders = pd.DataFrame({\"Purchase Count\":tspcount,\n",
    "                           \"Average Purchase Price\":tsavgprice,\n",
    "                           \"Total Purchase Value\":tstotalvalue})\n",
    "\n",
    "sortspenders = topspenders.sort_values(\"Total Purchase Value\", ascending=False).head()\n",
    "sortspenders.style.format({\"Average Purchase Price\":\"${:.2f}\",\"Total Purchase Value\":\"${:.2f}\"})"
   ]
  },
  {
   "cell_type": "markdown",
   "metadata": {},
   "source": [
    "## Most Popular Items"
   ]
  },
  {
   "cell_type": "markdown",
   "metadata": {},
   "source": [
    "* Retrieve the Item ID, Item Name, and Item Price columns\n",
    "\n",
    "\n",
    "* Group by Item ID and Item Name. Perform calculations to obtain purchase count, item price, and total purchase value\n",
    "\n",
    "\n",
    "* Create a summary data frame to hold the results\n",
    "\n",
    "\n",
    "* Sort the purchase count column in descending order\n",
    "\n",
    "\n",
    "* Optional: give the displayed data cleaner formatting\n",
    "\n",
    "\n",
    "* Display a preview of the summary data frame\n",
    "\n"
   ]
  },
  {
   "cell_type": "code",
   "execution_count": 38,
   "metadata": {},
   "outputs": [
    {
     "data": {
      "text/html": [
       "<style  type=\"text/css\" >\n",
       "</style>  \n",
       "<table id=\"T_f584a6d8_384b_11e9_90cf_00f48da344f0\" > \n",
       "<thead>    <tr> \n",
       "        <th class=\"blank\" ></th> \n",
       "        <th class=\"blank level0\" ></th> \n",
       "        <th class=\"col_heading level0 col0\" >Purchase Count</th> \n",
       "        <th class=\"col_heading level0 col1\" >Item Price</th> \n",
       "        <th class=\"col_heading level0 col2\" >Total Purchase Value</th> \n",
       "    </tr>    <tr> \n",
       "        <th class=\"index_name level0\" >Item ID</th> \n",
       "        <th class=\"index_name level1\" >Item Name</th> \n",
       "        <th class=\"blank\" ></th> \n",
       "        <th class=\"blank\" ></th> \n",
       "        <th class=\"blank\" ></th> \n",
       "    </tr></thead> \n",
       "<tbody>    <tr> \n",
       "        <th id=\"T_f584a6d8_384b_11e9_90cf_00f48da344f0level0_row0\" class=\"row_heading level0 row0\" >178</th> \n",
       "        <th id=\"T_f584a6d8_384b_11e9_90cf_00f48da344f0level1_row0\" class=\"row_heading level1 row0\" >Oathbreaker, Last Hope of the Breaking Storm</th> \n",
       "        <td id=\"T_f584a6d8_384b_11e9_90cf_00f48da344f0row0_col0\" class=\"data row0 col0\" >12</td> \n",
       "        <td id=\"T_f584a6d8_384b_11e9_90cf_00f48da344f0row0_col1\" class=\"data row0 col1\" >$4.23</td> \n",
       "        <td id=\"T_f584a6d8_384b_11e9_90cf_00f48da344f0row0_col2\" class=\"data row0 col2\" >$50.76</td> \n",
       "    </tr>    <tr> \n",
       "        <th id=\"T_f584a6d8_384b_11e9_90cf_00f48da344f0level0_row1\" class=\"row_heading level0 row1\" >145</th> \n",
       "        <th id=\"T_f584a6d8_384b_11e9_90cf_00f48da344f0level1_row1\" class=\"row_heading level1 row1\" >Fiery Glass Crusader</th> \n",
       "        <td id=\"T_f584a6d8_384b_11e9_90cf_00f48da344f0row1_col0\" class=\"data row1 col0\" >9</td> \n",
       "        <td id=\"T_f584a6d8_384b_11e9_90cf_00f48da344f0row1_col1\" class=\"data row1 col1\" >$4.58</td> \n",
       "        <td id=\"T_f584a6d8_384b_11e9_90cf_00f48da344f0row1_col2\" class=\"data row1 col2\" >$41.22</td> \n",
       "    </tr>    <tr> \n",
       "        <th id=\"T_f584a6d8_384b_11e9_90cf_00f48da344f0level0_row2\" class=\"row_heading level0 row2\" >108</th> \n",
       "        <th id=\"T_f584a6d8_384b_11e9_90cf_00f48da344f0level1_row2\" class=\"row_heading level1 row2\" >Extraction, Quickblade Of Trembling Hands</th> \n",
       "        <td id=\"T_f584a6d8_384b_11e9_90cf_00f48da344f0row2_col0\" class=\"data row2 col0\" >9</td> \n",
       "        <td id=\"T_f584a6d8_384b_11e9_90cf_00f48da344f0row2_col1\" class=\"data row2 col1\" >$3.53</td> \n",
       "        <td id=\"T_f584a6d8_384b_11e9_90cf_00f48da344f0row2_col2\" class=\"data row2 col2\" >$31.77</td> \n",
       "    </tr>    <tr> \n",
       "        <th id=\"T_f584a6d8_384b_11e9_90cf_00f48da344f0level0_row3\" class=\"row_heading level0 row3\" >82</th> \n",
       "        <th id=\"T_f584a6d8_384b_11e9_90cf_00f48da344f0level1_row3\" class=\"row_heading level1 row3\" >Nirvana</th> \n",
       "        <td id=\"T_f584a6d8_384b_11e9_90cf_00f48da344f0row3_col0\" class=\"data row3 col0\" >9</td> \n",
       "        <td id=\"T_f584a6d8_384b_11e9_90cf_00f48da344f0row3_col1\" class=\"data row3 col1\" >$4.90</td> \n",
       "        <td id=\"T_f584a6d8_384b_11e9_90cf_00f48da344f0row3_col2\" class=\"data row3 col2\" >$44.10</td> \n",
       "    </tr>    <tr> \n",
       "        <th id=\"T_f584a6d8_384b_11e9_90cf_00f48da344f0level0_row4\" class=\"row_heading level0 row4\" >19</th> \n",
       "        <th id=\"T_f584a6d8_384b_11e9_90cf_00f48da344f0level1_row4\" class=\"row_heading level1 row4\" >Pursuit, Cudgel of Necromancy</th> \n",
       "        <td id=\"T_f584a6d8_384b_11e9_90cf_00f48da344f0row4_col0\" class=\"data row4 col0\" >8</td> \n",
       "        <td id=\"T_f584a6d8_384b_11e9_90cf_00f48da344f0row4_col1\" class=\"data row4 col1\" >$1.02</td> \n",
       "        <td id=\"T_f584a6d8_384b_11e9_90cf_00f48da344f0row4_col2\" class=\"data row4 col2\" >$8.16</td> \n",
       "    </tr></tbody> \n",
       "</table> "
      ],
      "text/plain": [
       "<pandas.io.formats.style.Styler at 0x1a833e26358>"
      ]
     },
     "execution_count": 38,
     "metadata": {},
     "output_type": "execute_result"
    }
   ],
   "source": [
    "\n",
    "items = purchasedata_df[[\"Purchase ID\",\"Item ID\",\"Item Name\", \"Price\"]]\n",
    "grouped_items = items.groupby([\"Item ID\", \"Item Name\"])\n",
    "itempcount = grouped_items[\"Purchase ID\"].count()\n",
    "itemprice = grouped_items[\"Price\"].sum() / grouped_items[\"Price\"].count()\n",
    "totalpvalue = grouped_items[\"Price\"].sum()\n",
    "itemgroup = pd.DataFrame({\"Purchase Count\":itempcount,\n",
    "                             \"Item Price\":itemprice,\n",
    "                             \"Total Purchase Value\":totalpvalue})\n",
    "sortitems = itemgroup.sort_values(\"Purchase Count\", ascending=False).head()\n",
    "sortitems.style.format({\"Item Price\":\"${:.2f}\",\"Total Purchase Value\":\"${:.2f}\"})"
   ]
  },
  {
   "cell_type": "markdown",
   "metadata": {},
   "source": [
    "## Most Profitable Items"
   ]
  },
  {
   "cell_type": "markdown",
   "metadata": {},
   "source": [
    "* Sort the above table by total purchase value in descending order\n",
    "\n",
    "\n",
    "* Optional: give the displayed data cleaner formatting\n",
    "\n",
    "\n",
    "* Display a preview of the data frame\n",
    "\n"
   ]
  },
  {
   "cell_type": "code",
   "execution_count": 40,
   "metadata": {
    "scrolled": true
   },
   "outputs": [
    {
     "data": {
      "text/html": [
       "<style  type=\"text/css\" >\n",
       "</style>  \n",
       "<table id=\"T_4c09e474_386d_11e9_8fa1_00f48da344f0\" > \n",
       "<thead>    <tr> \n",
       "        <th class=\"blank\" ></th> \n",
       "        <th class=\"blank level0\" ></th> \n",
       "        <th class=\"col_heading level0 col0\" >Purchase Count</th> \n",
       "        <th class=\"col_heading level0 col1\" >Item Price</th> \n",
       "        <th class=\"col_heading level0 col2\" >Total Purchase Value</th> \n",
       "    </tr>    <tr> \n",
       "        <th class=\"index_name level0\" >Item ID</th> \n",
       "        <th class=\"index_name level1\" >Item Name</th> \n",
       "        <th class=\"blank\" ></th> \n",
       "        <th class=\"blank\" ></th> \n",
       "        <th class=\"blank\" ></th> \n",
       "    </tr></thead> \n",
       "<tbody>    <tr> \n",
       "        <th id=\"T_4c09e474_386d_11e9_8fa1_00f48da344f0level0_row0\" class=\"row_heading level0 row0\" >178</th> \n",
       "        <th id=\"T_4c09e474_386d_11e9_8fa1_00f48da344f0level1_row0\" class=\"row_heading level1 row0\" >Oathbreaker, Last Hope of the Breaking Storm</th> \n",
       "        <td id=\"T_4c09e474_386d_11e9_8fa1_00f48da344f0row0_col0\" class=\"data row0 col0\" >12</td> \n",
       "        <td id=\"T_4c09e474_386d_11e9_8fa1_00f48da344f0row0_col1\" class=\"data row0 col1\" >$4.23</td> \n",
       "        <td id=\"T_4c09e474_386d_11e9_8fa1_00f48da344f0row0_col2\" class=\"data row0 col2\" >$50.76</td> \n",
       "    </tr>    <tr> \n",
       "        <th id=\"T_4c09e474_386d_11e9_8fa1_00f48da344f0level0_row1\" class=\"row_heading level0 row1\" >82</th> \n",
       "        <th id=\"T_4c09e474_386d_11e9_8fa1_00f48da344f0level1_row1\" class=\"row_heading level1 row1\" >Nirvana</th> \n",
       "        <td id=\"T_4c09e474_386d_11e9_8fa1_00f48da344f0row1_col0\" class=\"data row1 col0\" >9</td> \n",
       "        <td id=\"T_4c09e474_386d_11e9_8fa1_00f48da344f0row1_col1\" class=\"data row1 col1\" >$4.90</td> \n",
       "        <td id=\"T_4c09e474_386d_11e9_8fa1_00f48da344f0row1_col2\" class=\"data row1 col2\" >$44.10</td> \n",
       "    </tr>    <tr> \n",
       "        <th id=\"T_4c09e474_386d_11e9_8fa1_00f48da344f0level0_row2\" class=\"row_heading level0 row2\" >145</th> \n",
       "        <th id=\"T_4c09e474_386d_11e9_8fa1_00f48da344f0level1_row2\" class=\"row_heading level1 row2\" >Fiery Glass Crusader</th> \n",
       "        <td id=\"T_4c09e474_386d_11e9_8fa1_00f48da344f0row2_col0\" class=\"data row2 col0\" >9</td> \n",
       "        <td id=\"T_4c09e474_386d_11e9_8fa1_00f48da344f0row2_col1\" class=\"data row2 col1\" >$4.58</td> \n",
       "        <td id=\"T_4c09e474_386d_11e9_8fa1_00f48da344f0row2_col2\" class=\"data row2 col2\" >$41.22</td> \n",
       "    </tr>    <tr> \n",
       "        <th id=\"T_4c09e474_386d_11e9_8fa1_00f48da344f0level0_row3\" class=\"row_heading level0 row3\" >92</th> \n",
       "        <th id=\"T_4c09e474_386d_11e9_8fa1_00f48da344f0level1_row3\" class=\"row_heading level1 row3\" >Final Critic</th> \n",
       "        <td id=\"T_4c09e474_386d_11e9_8fa1_00f48da344f0row3_col0\" class=\"data row3 col0\" >8</td> \n",
       "        <td id=\"T_4c09e474_386d_11e9_8fa1_00f48da344f0row3_col1\" class=\"data row3 col1\" >$4.88</td> \n",
       "        <td id=\"T_4c09e474_386d_11e9_8fa1_00f48da344f0row3_col2\" class=\"data row3 col2\" >$39.04</td> \n",
       "    </tr>    <tr> \n",
       "        <th id=\"T_4c09e474_386d_11e9_8fa1_00f48da344f0level0_row4\" class=\"row_heading level0 row4\" >103</th> \n",
       "        <th id=\"T_4c09e474_386d_11e9_8fa1_00f48da344f0level1_row4\" class=\"row_heading level1 row4\" >Singed Scalpel</th> \n",
       "        <td id=\"T_4c09e474_386d_11e9_8fa1_00f48da344f0row4_col0\" class=\"data row4 col0\" >8</td> \n",
       "        <td id=\"T_4c09e474_386d_11e9_8fa1_00f48da344f0row4_col1\" class=\"data row4 col1\" >$4.35</td> \n",
       "        <td id=\"T_4c09e474_386d_11e9_8fa1_00f48da344f0row4_col2\" class=\"data row4 col2\" >$34.80</td> \n",
       "    </tr></tbody> \n",
       "</table> "
      ],
      "text/plain": [
       "<pandas.io.formats.style.Styler at 0x1a833dae3c8>"
      ]
     },
     "execution_count": 40,
     "metadata": {},
     "output_type": "execute_result"
    }
   ],
   "source": [
    "profitable = itemgroup.sort_values(\"Total Purchase Value\", ascending=False).head()\n",
    "profitable.style.format({\"Item Price\":\"${:.2f}\",\"Total Purchase Value\":\"${:.2f}\"})"
   ]
  },
  {
   "cell_type": "code",
   "execution_count": null,
   "metadata": {},
   "outputs": [],
   "source": []
  }
 ],
 "metadata": {
  "anaconda-cloud": {},
  "kernel_info": {
   "name": "python3"
  },
  "kernelspec": {
   "display_name": "Python 3",
   "language": "python",
   "name": "python3"
  },
  "nteract": {
   "version": "0.2.0"
  }
 },
 "nbformat": 4,
 "nbformat_minor": 2
}
